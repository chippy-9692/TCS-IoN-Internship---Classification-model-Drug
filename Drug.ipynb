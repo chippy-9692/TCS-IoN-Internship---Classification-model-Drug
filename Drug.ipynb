{
 "cells": [
  {
   "cell_type": "markdown",
   "id": "6266bac9",
   "metadata": {},
   "source": [
    "# Import Packages"
   ]
  },
  {
   "cell_type": "code",
   "execution_count": 2,
   "id": "c605cc71",
   "metadata": {},
   "outputs": [],
   "source": [
    "import numpy as np\n",
    "import pandas as pd\n",
    "import matplotlib.pyplot as plt\n",
    "import seaborn as sns\n",
    "import warnings\n",
    "warnings.filterwarnings('ignore')"
   ]
  },
  {
   "cell_type": "code",
   "execution_count": 3,
   "id": "82117963",
   "metadata": {},
   "outputs": [],
   "source": [
    "df=pd.read_csv('drugdata.csv')"
   ]
  },
  {
   "cell_type": "code",
   "execution_count": 4,
   "id": "9b406c1a",
   "metadata": {},
   "outputs": [
    {
     "data": {
      "text/html": [
       "<div>\n",
       "<style scoped>\n",
       "    .dataframe tbody tr th:only-of-type {\n",
       "        vertical-align: middle;\n",
       "    }\n",
       "\n",
       "    .dataframe tbody tr th {\n",
       "        vertical-align: top;\n",
       "    }\n",
       "\n",
       "    .dataframe thead th {\n",
       "        text-align: right;\n",
       "    }\n",
       "</style>\n",
       "<table border=\"1\" class=\"dataframe\">\n",
       "  <thead>\n",
       "    <tr style=\"text-align: right;\">\n",
       "      <th></th>\n",
       "      <th>Names</th>\n",
       "      <th>Age</th>\n",
       "      <th>Sex</th>\n",
       "      <th>Date</th>\n",
       "      <th>Race</th>\n",
       "      <th>Condition</th>\n",
       "      <th>Drug</th>\n",
       "      <th>DrugId</th>\n",
       "      <th>Satisfaction</th>\n",
       "      <th>Sides</th>\n",
       "      <th>UsefulCount</th>\n",
       "      <th>Effectiveness</th>\n",
       "      <th>EaseofUse</th>\n",
       "      <th>Reviews</th>\n",
       "    </tr>\n",
       "  </thead>\n",
       "  <tbody>\n",
       "    <tr>\n",
       "      <th>0</th>\n",
       "      <td>Carry</td>\n",
       "      <td>75 or over</td>\n",
       "      <td>Male</td>\n",
       "      <td>9/21/2014</td>\n",
       "      <td>Black</td>\n",
       "      <td>Stuffy Nose</td>\n",
       "      <td>25dph-7.5peh</td>\n",
       "      <td>146724</td>\n",
       "      <td>5</td>\n",
       "      <td>Drowsiness,  dizziness ,  dry mouth /nose/thro...</td>\n",
       "      <td>0</td>\n",
       "      <td>5</td>\n",
       "      <td>5</td>\n",
       "      <td>I'm a retired physician and of all the meds I ...</td>\n",
       "    </tr>\n",
       "    <tr>\n",
       "      <th>1</th>\n",
       "      <td>Servando</td>\n",
       "      <td>25-34</td>\n",
       "      <td>Female</td>\n",
       "      <td>1/13/2011</td>\n",
       "      <td>Black</td>\n",
       "      <td>Cold Symptoms</td>\n",
       "      <td>25dph-7.5peh</td>\n",
       "      <td>146724</td>\n",
       "      <td>5</td>\n",
       "      <td>Drowsiness,  dizziness ,  dry mouth /nose/thro...</td>\n",
       "      <td>1</td>\n",
       "      <td>5</td>\n",
       "      <td>5</td>\n",
       "      <td>cleared me right up even with my throat hurtin...</td>\n",
       "    </tr>\n",
       "    <tr>\n",
       "      <th>2</th>\n",
       "      <td>Julus</td>\n",
       "      <td>65-74</td>\n",
       "      <td>Female</td>\n",
       "      <td>7/16/2012</td>\n",
       "      <td>Asian</td>\n",
       "      <td>Other</td>\n",
       "      <td>warfarin (bulk) 100 % powder</td>\n",
       "      <td>144731</td>\n",
       "      <td>3</td>\n",
       "      <td></td>\n",
       "      <td>0</td>\n",
       "      <td>3</td>\n",
       "      <td>2</td>\n",
       "      <td>why did my PTINR go from a normal of 2.5 to ov...</td>\n",
       "    </tr>\n",
       "    <tr>\n",
       "      <th>3</th>\n",
       "      <td>Hanako</td>\n",
       "      <td>75 or over</td>\n",
       "      <td>Female</td>\n",
       "      <td>9/23/2010</td>\n",
       "      <td>Black</td>\n",
       "      <td>Other</td>\n",
       "      <td>warfarin (bulk) 100 % powder</td>\n",
       "      <td>144731</td>\n",
       "      <td>1</td>\n",
       "      <td></td>\n",
       "      <td>0</td>\n",
       "      <td>2</td>\n",
       "      <td>2</td>\n",
       "      <td>FALLING AND DON'T REALISE IT</td>\n",
       "    </tr>\n",
       "    <tr>\n",
       "      <th>4</th>\n",
       "      <td>Joice</td>\n",
       "      <td>35-44</td>\n",
       "      <td>Male</td>\n",
       "      <td>01-06-2009</td>\n",
       "      <td>Asian</td>\n",
       "      <td>Other</td>\n",
       "      <td>warfarin (bulk) 100 % powder</td>\n",
       "      <td>144731</td>\n",
       "      <td>1</td>\n",
       "      <td></td>\n",
       "      <td>1</td>\n",
       "      <td>1</td>\n",
       "      <td>1</td>\n",
       "      <td>My grandfather was prescribed this medication ...</td>\n",
       "    </tr>\n",
       "  </tbody>\n",
       "</table>\n",
       "</div>"
      ],
      "text/plain": [
       "      Names         Age     Sex        Date   Race      Condition  \\\n",
       "0     Carry  75 or over    Male   9/21/2014  Black    Stuffy Nose   \n",
       "1  Servando       25-34  Female   1/13/2011  Black  Cold Symptoms   \n",
       "2     Julus       65-74  Female   7/16/2012  Asian          Other   \n",
       "3    Hanako  75 or over  Female   9/23/2010  Black          Other   \n",
       "4     Joice       35-44    Male  01-06-2009  Asian          Other   \n",
       "\n",
       "                           Drug  DrugId  Satisfaction  \\\n",
       "0                  25dph-7.5peh  146724             5   \n",
       "1                  25dph-7.5peh  146724             5   \n",
       "2  warfarin (bulk) 100 % powder  144731             3   \n",
       "3  warfarin (bulk) 100 % powder  144731             1   \n",
       "4  warfarin (bulk) 100 % powder  144731             1   \n",
       "\n",
       "                                               Sides  UsefulCount  \\\n",
       "0  Drowsiness,  dizziness ,  dry mouth /nose/thro...            0   \n",
       "1  Drowsiness,  dizziness ,  dry mouth /nose/thro...            1   \n",
       "2                                                               0   \n",
       "3                                                               0   \n",
       "4                                                               1   \n",
       "\n",
       "   Effectiveness  EaseofUse                                            Reviews  \n",
       "0              5          5  I'm a retired physician and of all the meds I ...  \n",
       "1              5          5  cleared me right up even with my throat hurtin...  \n",
       "2              3          2  why did my PTINR go from a normal of 2.5 to ov...  \n",
       "3              2          2                       FALLING AND DON'T REALISE IT  \n",
       "4              1          1  My grandfather was prescribed this medication ...  "
      ]
     },
     "execution_count": 4,
     "metadata": {},
     "output_type": "execute_result"
    }
   ],
   "source": [
    "df.head(5)"
   ]
  },
  {
   "cell_type": "code",
   "execution_count": null,
   "id": "be0c5dde",
   "metadata": {},
   "outputs": [],
   "source": []
  },
  {
   "cell_type": "code",
   "execution_count": 5,
   "id": "aee67511",
   "metadata": {},
   "outputs": [
    {
     "data": {
      "text/html": [
       "<div>\n",
       "<style scoped>\n",
       "    .dataframe tbody tr th:only-of-type {\n",
       "        vertical-align: middle;\n",
       "    }\n",
       "\n",
       "    .dataframe tbody tr th {\n",
       "        vertical-align: top;\n",
       "    }\n",
       "\n",
       "    .dataframe thead th {\n",
       "        text-align: right;\n",
       "    }\n",
       "</style>\n",
       "<table border=\"1\" class=\"dataframe\">\n",
       "  <thead>\n",
       "    <tr style=\"text-align: right;\">\n",
       "      <th></th>\n",
       "      <th>Names</th>\n",
       "      <th>Age</th>\n",
       "      <th>Sex</th>\n",
       "      <th>Date</th>\n",
       "      <th>Race</th>\n",
       "      <th>Condition</th>\n",
       "      <th>Drug</th>\n",
       "      <th>DrugId</th>\n",
       "      <th>Satisfaction</th>\n",
       "      <th>Sides</th>\n",
       "      <th>UsefulCount</th>\n",
       "      <th>Effectiveness</th>\n",
       "      <th>EaseofUse</th>\n",
       "      <th>Reviews</th>\n",
       "    </tr>\n",
       "  </thead>\n",
       "  <tbody>\n",
       "    <tr>\n",
       "      <th>362801</th>\n",
       "      <td>Lucky</td>\n",
       "      <td>55-64</td>\n",
       "      <td>Female</td>\n",
       "      <td>11/14/2008</td>\n",
       "      <td>Caucasian</td>\n",
       "      <td>Stop Smoking</td>\n",
       "      <td>chantix</td>\n",
       "      <td>144470</td>\n",
       "      <td>5</td>\n",
       "      <td>Nausea ,  headache ,  vomiting , drowsiness, g...</td>\n",
       "      <td>2</td>\n",
       "      <td>5</td>\n",
       "      <td>5</td>\n",
       "      <td>I took the whole 12 weeks.I could have stopped...</td>\n",
       "    </tr>\n",
       "    <tr>\n",
       "      <th>362802</th>\n",
       "      <td>Jule</td>\n",
       "      <td></td>\n",
       "      <td></td>\n",
       "      <td>11/14/2008</td>\n",
       "      <td>Black</td>\n",
       "      <td>Other</td>\n",
       "      <td>chantix</td>\n",
       "      <td>144470</td>\n",
       "      <td>1</td>\n",
       "      <td>Nausea ,  headache ,  vomiting , drowsiness, g...</td>\n",
       "      <td>16</td>\n",
       "      <td>3</td>\n",
       "      <td>2</td>\n",
       "      <td>My dad strated taking Chantix about 1 month ag...</td>\n",
       "    </tr>\n",
       "    <tr>\n",
       "      <th>362803</th>\n",
       "      <td>Stafford</td>\n",
       "      <td>25-34</td>\n",
       "      <td>Female</td>\n",
       "      <td>11/13/2008</td>\n",
       "      <td>Asian</td>\n",
       "      <td>Stop Smoking</td>\n",
       "      <td>chantix</td>\n",
       "      <td>144470</td>\n",
       "      <td>2</td>\n",
       "      <td>Nausea ,  headache ,  vomiting , drowsiness, g...</td>\n",
       "      <td>3</td>\n",
       "      <td>4</td>\n",
       "      <td>2</td>\n",
       "      <td>As long as I was on chantix, I didn't smoke.  ...</td>\n",
       "    </tr>\n",
       "    <tr>\n",
       "      <th>362804</th>\n",
       "      <td>Ermon</td>\n",
       "      <td>55-64</td>\n",
       "      <td>Male</td>\n",
       "      <td>11/13/2008</td>\n",
       "      <td>Asian</td>\n",
       "      <td>Stop Smoking</td>\n",
       "      <td>chantix</td>\n",
       "      <td>144470</td>\n",
       "      <td>5</td>\n",
       "      <td>Nausea ,  headache ,  vomiting , drowsiness, g...</td>\n",
       "      <td>1</td>\n",
       "      <td>5</td>\n",
       "      <td>5</td>\n",
       "      <td>Started this medication Oct 5th 2008. Haven't ...</td>\n",
       "    </tr>\n",
       "    <tr>\n",
       "      <th>362805</th>\n",
       "      <td>Ila</td>\n",
       "      <td>45-54</td>\n",
       "      <td>Female</td>\n",
       "      <td>11-12-2008</td>\n",
       "      <td>Black</td>\n",
       "      <td>Stop Smoking</td>\n",
       "      <td>chantix</td>\n",
       "      <td>144470</td>\n",
       "      <td>5</td>\n",
       "      <td>Nausea ,  headache ,  vomiting , drowsiness, g...</td>\n",
       "      <td>3</td>\n",
       "      <td>5</td>\n",
       "      <td>4</td>\n",
       "      <td>One year ago, I tried Chantix and had to stop ...</td>\n",
       "    </tr>\n",
       "  </tbody>\n",
       "</table>\n",
       "</div>"
      ],
      "text/plain": [
       "           Names    Age     Sex        Date       Race     Condition     Drug  \\\n",
       "362801     Lucky  55-64  Female  11/14/2008  Caucasian  Stop Smoking  chantix   \n",
       "362802      Jule                 11/14/2008      Black         Other  chantix   \n",
       "362803  Stafford  25-34  Female  11/13/2008      Asian  Stop Smoking  chantix   \n",
       "362804     Ermon  55-64    Male  11/13/2008      Asian  Stop Smoking  chantix   \n",
       "362805       Ila  45-54  Female  11-12-2008      Black  Stop Smoking  chantix   \n",
       "\n",
       "        DrugId  Satisfaction  \\\n",
       "362801  144470             5   \n",
       "362802  144470             1   \n",
       "362803  144470             2   \n",
       "362804  144470             5   \n",
       "362805  144470             5   \n",
       "\n",
       "                                                    Sides  UsefulCount  \\\n",
       "362801  Nausea ,  headache ,  vomiting , drowsiness, g...            2   \n",
       "362802  Nausea ,  headache ,  vomiting , drowsiness, g...           16   \n",
       "362803  Nausea ,  headache ,  vomiting , drowsiness, g...            3   \n",
       "362804  Nausea ,  headache ,  vomiting , drowsiness, g...            1   \n",
       "362805  Nausea ,  headache ,  vomiting , drowsiness, g...            3   \n",
       "\n",
       "        Effectiveness  EaseofUse  \\\n",
       "362801              5          5   \n",
       "362802              3          2   \n",
       "362803              4          2   \n",
       "362804              5          5   \n",
       "362805              5          4   \n",
       "\n",
       "                                                  Reviews  \n",
       "362801  I took the whole 12 weeks.I could have stopped...  \n",
       "362802  My dad strated taking Chantix about 1 month ag...  \n",
       "362803  As long as I was on chantix, I didn't smoke.  ...  \n",
       "362804  Started this medication Oct 5th 2008. Haven't ...  \n",
       "362805  One year ago, I tried Chantix and had to stop ...  "
      ]
     },
     "execution_count": 5,
     "metadata": {},
     "output_type": "execute_result"
    }
   ],
   "source": [
    "df.tail(5)"
   ]
  },
  {
   "cell_type": "code",
   "execution_count": 6,
   "id": "3addbb15",
   "metadata": {},
   "outputs": [
    {
     "data": {
      "text/plain": [
       "(362806, 14)"
      ]
     },
     "execution_count": 6,
     "metadata": {},
     "output_type": "execute_result"
    }
   ],
   "source": [
    "df.shape"
   ]
  },
  {
   "cell_type": "code",
   "execution_count": 7,
   "id": "ebcdee6e",
   "metadata": {},
   "outputs": [
    {
     "data": {
      "text/plain": [
       "['Names',\n",
       " 'Age',\n",
       " 'Sex',\n",
       " 'Date',\n",
       " 'Race',\n",
       " 'Condition',\n",
       " 'Drug',\n",
       " 'DrugId',\n",
       " 'Satisfaction',\n",
       " 'Sides',\n",
       " 'UsefulCount',\n",
       " 'Effectiveness',\n",
       " 'EaseofUse',\n",
       " 'Reviews']"
      ]
     },
     "execution_count": 7,
     "metadata": {},
     "output_type": "execute_result"
    }
   ],
   "source": [
    "df.columns.tolist()"
   ]
  },
  {
   "cell_type": "code",
   "execution_count": 8,
   "id": "fdeb2670",
   "metadata": {},
   "outputs": [
    {
     "name": "stdout",
     "output_type": "stream",
     "text": [
      "<class 'pandas.core.frame.DataFrame'>\n",
      "RangeIndex: 362806 entries, 0 to 362805\n",
      "Data columns (total 14 columns):\n",
      " #   Column         Non-Null Count   Dtype \n",
      "---  ------         --------------   ----- \n",
      " 0   Names          362806 non-null  object\n",
      " 1   Age            362806 non-null  object\n",
      " 2   Sex            362806 non-null  object\n",
      " 3   Date           362806 non-null  object\n",
      " 4   Race           362523 non-null  object\n",
      " 5   Condition      362806 non-null  object\n",
      " 6   Drug           362806 non-null  object\n",
      " 7   DrugId         362806 non-null  int64 \n",
      " 8   Satisfaction   362806 non-null  int64 \n",
      " 9   Sides          362806 non-null  object\n",
      " 10  UsefulCount    362806 non-null  int64 \n",
      " 11  Effectiveness  362806 non-null  int64 \n",
      " 12  EaseofUse      362806 non-null  int64 \n",
      " 13  Reviews        362769 non-null  object\n",
      "dtypes: int64(5), object(9)\n",
      "memory usage: 38.8+ MB\n"
     ]
    }
   ],
   "source": [
    "df.info()"
   ]
  },
  {
   "cell_type": "code",
   "execution_count": 9,
   "id": "bbe1cc41",
   "metadata": {},
   "outputs": [],
   "source": [
    "df_new=df.copy()"
   ]
  },
  {
   "cell_type": "code",
   "execution_count": 10,
   "id": "d8036ead",
   "metadata": {},
   "outputs": [
    {
     "data": {
      "text/plain": [
       "Female    238226\n",
       "Male       98043\n",
       "           26537\n",
       "Name: Sex, dtype: int64"
      ]
     },
     "execution_count": 10,
     "metadata": {},
     "output_type": "execute_result"
    }
   ],
   "source": [
    "df['Sex'].value_counts()"
   ]
  },
  {
   "cell_type": "code",
   "execution_count": 11,
   "id": "bb5e5a07",
   "metadata": {},
   "outputs": [],
   "source": [
    "df['Sex'].replace(to_replace = [' '], value = 'Female', inplace = True)"
   ]
  },
  {
   "cell_type": "code",
   "execution_count": 12,
   "id": "406b4a73",
   "metadata": {},
   "outputs": [
    {
     "data": {
      "text/plain": [
       "Black        121164\n",
       "Caucasian    120687\n",
       "Asian        120672\n",
       "Name: Race, dtype: int64"
      ]
     },
     "execution_count": 12,
     "metadata": {},
     "output_type": "execute_result"
    }
   ],
   "source": [
    "df['Race'].value_counts()"
   ]
  },
  {
   "cell_type": "code",
   "execution_count": 13,
   "id": "8b3c163d",
   "metadata": {},
   "outputs": [
    {
     "data": {
      "text/plain": [
       "cymbalta                               4648\n",
       "lisinopril                             4269\n",
       "lisinopril solution                    4269\n",
       "lexapro                                4134\n",
       "hydrocodone-acetaminophen              3944\n",
       "                                       ... \n",
       "sorbsan bandage                           1\n",
       "sorbsan topical wound dressing 3\" x       1\n",
       "q-pap extra strength                      1\n",
       "symax                                     1\n",
       "vanadium granules                         1\n",
       "Name: Drug, Length: 7093, dtype: int64"
      ]
     },
     "execution_count": 13,
     "metadata": {},
     "output_type": "execute_result"
    }
   ],
   "source": [
    "df['Drug'].value_counts()"
   ]
  },
  {
   "cell_type": "code",
   "execution_count": 14,
   "id": "d33870e6",
   "metadata": {},
   "outputs": [
    {
     "data": {
      "text/html": [
       "<div>\n",
       "<style scoped>\n",
       "    .dataframe tbody tr th:only-of-type {\n",
       "        vertical-align: middle;\n",
       "    }\n",
       "\n",
       "    .dataframe tbody tr th {\n",
       "        vertical-align: top;\n",
       "    }\n",
       "\n",
       "    .dataframe thead th {\n",
       "        text-align: right;\n",
       "    }\n",
       "</style>\n",
       "<table border=\"1\" class=\"dataframe\">\n",
       "  <thead>\n",
       "    <tr style=\"text-align: right;\">\n",
       "      <th></th>\n",
       "      <th>DrugId</th>\n",
       "      <th>Satisfaction</th>\n",
       "      <th>UsefulCount</th>\n",
       "      <th>Effectiveness</th>\n",
       "      <th>EaseofUse</th>\n",
       "    </tr>\n",
       "  </thead>\n",
       "  <tbody>\n",
       "    <tr>\n",
       "      <th>count</th>\n",
       "      <td>362806.000000</td>\n",
       "      <td>362806.000000</td>\n",
       "      <td>362806.000000</td>\n",
       "      <td>362806.000000</td>\n",
       "      <td>362806.000000</td>\n",
       "    </tr>\n",
       "    <tr>\n",
       "      <th>mean</th>\n",
       "      <td>36879.370774</td>\n",
       "      <td>3.135408</td>\n",
       "      <td>6.744916</td>\n",
       "      <td>3.532061</td>\n",
       "      <td>4.019829</td>\n",
       "    </tr>\n",
       "    <tr>\n",
       "      <th>std</th>\n",
       "      <td>52624.412971</td>\n",
       "      <td>1.611106</td>\n",
       "      <td>9.324240</td>\n",
       "      <td>1.455961</td>\n",
       "      <td>1.317711</td>\n",
       "    </tr>\n",
       "    <tr>\n",
       "      <th>min</th>\n",
       "      <td>1.000000</td>\n",
       "      <td>1.000000</td>\n",
       "      <td>0.000000</td>\n",
       "      <td>1.000000</td>\n",
       "      <td>1.000000</td>\n",
       "    </tr>\n",
       "    <tr>\n",
       "      <th>25%</th>\n",
       "      <td>4896.000000</td>\n",
       "      <td>1.000000</td>\n",
       "      <td>1.000000</td>\n",
       "      <td>3.000000</td>\n",
       "      <td>3.000000</td>\n",
       "    </tr>\n",
       "    <tr>\n",
       "      <th>50%</th>\n",
       "      <td>9548.000000</td>\n",
       "      <td>3.000000</td>\n",
       "      <td>4.000000</td>\n",
       "      <td>4.000000</td>\n",
       "      <td>5.000000</td>\n",
       "    </tr>\n",
       "    <tr>\n",
       "      <th>75%</th>\n",
       "      <td>63522.000000</td>\n",
       "      <td>5.000000</td>\n",
       "      <td>9.000000</td>\n",
       "      <td>5.000000</td>\n",
       "      <td>5.000000</td>\n",
       "    </tr>\n",
       "    <tr>\n",
       "      <th>max</th>\n",
       "      <td>178546.000000</td>\n",
       "      <td>10.000000</td>\n",
       "      <td>255.000000</td>\n",
       "      <td>10.000000</td>\n",
       "      <td>10.000000</td>\n",
       "    </tr>\n",
       "  </tbody>\n",
       "</table>\n",
       "</div>"
      ],
      "text/plain": [
       "              DrugId   Satisfaction    UsefulCount  Effectiveness  \\\n",
       "count  362806.000000  362806.000000  362806.000000  362806.000000   \n",
       "mean    36879.370774       3.135408       6.744916       3.532061   \n",
       "std     52624.412971       1.611106       9.324240       1.455961   \n",
       "min         1.000000       1.000000       0.000000       1.000000   \n",
       "25%      4896.000000       1.000000       1.000000       3.000000   \n",
       "50%      9548.000000       3.000000       4.000000       4.000000   \n",
       "75%     63522.000000       5.000000       9.000000       5.000000   \n",
       "max    178546.000000      10.000000     255.000000      10.000000   \n",
       "\n",
       "           EaseofUse  \n",
       "count  362806.000000  \n",
       "mean        4.019829  \n",
       "std         1.317711  \n",
       "min         1.000000  \n",
       "25%         3.000000  \n",
       "50%         5.000000  \n",
       "75%         5.000000  \n",
       "max        10.000000  "
      ]
     },
     "execution_count": 14,
     "metadata": {},
     "output_type": "execute_result"
    }
   ],
   "source": [
    "df.describe()"
   ]
  },
  {
   "cell_type": "code",
   "execution_count": 15,
   "id": "27639083",
   "metadata": {},
   "outputs": [
    {
     "data": {
      "text/plain": [
       "Names              0\n",
       "Age                0\n",
       "Sex                0\n",
       "Date               0\n",
       "Race             283\n",
       "Condition          0\n",
       "Drug               0\n",
       "DrugId             0\n",
       "Satisfaction       0\n",
       "Sides              0\n",
       "UsefulCount        0\n",
       "Effectiveness      0\n",
       "EaseofUse          0\n",
       "Reviews           37\n",
       "dtype: int64"
      ]
     },
     "execution_count": 15,
     "metadata": {},
     "output_type": "execute_result"
    }
   ],
   "source": [
    "df.isna().sum()"
   ]
  },
  {
   "cell_type": "code",
   "execution_count": 16,
   "id": "e0f35848",
   "metadata": {},
   "outputs": [
    {
     "data": {
      "text/plain": [
       "count     362523\n",
       "unique         3\n",
       "top        Black\n",
       "freq      121164\n",
       "Name: Race, dtype: object"
      ]
     },
     "execution_count": 16,
     "metadata": {},
     "output_type": "execute_result"
    }
   ],
   "source": [
    "df['Race'].describe()"
   ]
  },
  {
   "cell_type": "code",
   "execution_count": 17,
   "id": "861758e6",
   "metadata": {},
   "outputs": [],
   "source": [
    "df['Race'].fillna('Black',inplace=True)"
   ]
  },
  {
   "cell_type": "code",
   "execution_count": 18,
   "id": "f613dcb2",
   "metadata": {},
   "outputs": [],
   "source": [
    "#Since the column 'Reviews' contains 250159 we can neglect it.\n",
    "\n",
    "df=df.drop(['Reviews'],axis=1)"
   ]
  },
  {
   "cell_type": "code",
   "execution_count": 19,
   "id": "2047da3f",
   "metadata": {},
   "outputs": [
    {
     "data": {
      "text/plain": [
       "0    cymbalta\n",
       "Name: Drug, dtype: object"
      ]
     },
     "execution_count": 19,
     "metadata": {},
     "output_type": "execute_result"
    }
   ],
   "source": [
    "df.Drug.mode()"
   ]
  },
  {
   "cell_type": "code",
   "execution_count": 20,
   "id": "8c57cad2",
   "metadata": {},
   "outputs": [],
   "source": [
    "df_data=df.drop(df.loc[(df['DrugId']!=91491)].index)"
   ]
  },
  {
   "cell_type": "code",
   "execution_count": 21,
   "id": "18367799",
   "metadata": {},
   "outputs": [
    {
     "data": {
      "text/html": [
       "<div>\n",
       "<style scoped>\n",
       "    .dataframe tbody tr th:only-of-type {\n",
       "        vertical-align: middle;\n",
       "    }\n",
       "\n",
       "    .dataframe tbody tr th {\n",
       "        vertical-align: top;\n",
       "    }\n",
       "\n",
       "    .dataframe thead th {\n",
       "        text-align: right;\n",
       "    }\n",
       "</style>\n",
       "<table border=\"1\" class=\"dataframe\">\n",
       "  <thead>\n",
       "    <tr style=\"text-align: right;\">\n",
       "      <th></th>\n",
       "      <th>Names</th>\n",
       "      <th>Age</th>\n",
       "      <th>Sex</th>\n",
       "      <th>Date</th>\n",
       "      <th>Race</th>\n",
       "      <th>Condition</th>\n",
       "      <th>Drug</th>\n",
       "      <th>DrugId</th>\n",
       "      <th>Satisfaction</th>\n",
       "      <th>Sides</th>\n",
       "      <th>UsefulCount</th>\n",
       "      <th>Effectiveness</th>\n",
       "      <th>EaseofUse</th>\n",
       "    </tr>\n",
       "  </thead>\n",
       "  <tbody>\n",
       "    <tr>\n",
       "      <th>314212</th>\n",
       "      <td>Obie</td>\n",
       "      <td></td>\n",
       "      <td>Female</td>\n",
       "      <td>2/29/2020</td>\n",
       "      <td>Asian</td>\n",
       "      <td>Major Depressive Disorder</td>\n",
       "      <td>cymbalta</td>\n",
       "      <td>91491</td>\n",
       "      <td>5</td>\n",
       "      <td>Nausea ,  dry mouth ,  constipation , loss of ...</td>\n",
       "      <td>12</td>\n",
       "      <td>5</td>\n",
       "      <td>5</td>\n",
       "    </tr>\n",
       "    <tr>\n",
       "      <th>314216</th>\n",
       "      <td>Tobias</td>\n",
       "      <td>45-54</td>\n",
       "      <td>Male</td>\n",
       "      <td>1/13/2020</td>\n",
       "      <td>Asian</td>\n",
       "      <td>Repeated Episodes of Anxiety</td>\n",
       "      <td>cymbalta</td>\n",
       "      <td>91491</td>\n",
       "      <td>1</td>\n",
       "      <td>Nausea ,  dry mouth ,  constipation , loss of ...</td>\n",
       "      <td>0</td>\n",
       "      <td>1</td>\n",
       "      <td>3</td>\n",
       "    </tr>\n",
       "    <tr>\n",
       "      <th>314223</th>\n",
       "      <td>Collis</td>\n",
       "      <td>45-54</td>\n",
       "      <td>Female</td>\n",
       "      <td>01-04-2020</td>\n",
       "      <td>Asian</td>\n",
       "      <td>Anxiousness associated with Depression</td>\n",
       "      <td>cymbalta</td>\n",
       "      <td>91491</td>\n",
       "      <td>5</td>\n",
       "      <td>Nausea ,  dry mouth ,  constipation , loss of ...</td>\n",
       "      <td>0</td>\n",
       "      <td>5</td>\n",
       "      <td>5</td>\n",
       "    </tr>\n",
       "    <tr>\n",
       "      <th>314235</th>\n",
       "      <td>Winnie</td>\n",
       "      <td>35-44</td>\n",
       "      <td>Female</td>\n",
       "      <td>12-06-2019</td>\n",
       "      <td>Caucasian</td>\n",
       "      <td>Anxiousness associated with Depression</td>\n",
       "      <td>cymbalta</td>\n",
       "      <td>91491</td>\n",
       "      <td>2</td>\n",
       "      <td>Nausea ,  dry mouth ,  constipation , loss of ...</td>\n",
       "      <td>0</td>\n",
       "      <td>3</td>\n",
       "      <td>3</td>\n",
       "    </tr>\n",
       "    <tr>\n",
       "      <th>314246</th>\n",
       "      <td>Gilberte</td>\n",
       "      <td>55-64</td>\n",
       "      <td>Female</td>\n",
       "      <td>11/20/2019</td>\n",
       "      <td>Asian</td>\n",
       "      <td>Chronic Muscle or Bone Pain</td>\n",
       "      <td>cymbalta</td>\n",
       "      <td>91491</td>\n",
       "      <td>2</td>\n",
       "      <td>Nausea ,  dry mouth ,  constipation , loss of ...</td>\n",
       "      <td>1</td>\n",
       "      <td>2</td>\n",
       "      <td>2</td>\n",
       "    </tr>\n",
       "  </tbody>\n",
       "</table>\n",
       "</div>"
      ],
      "text/plain": [
       "           Names    Age     Sex        Date       Race  \\\n",
       "314212      Obie         Female   2/29/2020      Asian   \n",
       "314216    Tobias  45-54    Male   1/13/2020      Asian   \n",
       "314223    Collis  45-54  Female  01-04-2020      Asian   \n",
       "314235    Winnie  35-44  Female  12-06-2019  Caucasian   \n",
       "314246  Gilberte  55-64  Female  11/20/2019      Asian   \n",
       "\n",
       "                                     Condition      Drug  DrugId  \\\n",
       "314212               Major Depressive Disorder  cymbalta   91491   \n",
       "314216            Repeated Episodes of Anxiety  cymbalta   91491   \n",
       "314223  Anxiousness associated with Depression  cymbalta   91491   \n",
       "314235  Anxiousness associated with Depression  cymbalta   91491   \n",
       "314246             Chronic Muscle or Bone Pain  cymbalta   91491   \n",
       "\n",
       "        Satisfaction                                              Sides  \\\n",
       "314212             5  Nausea ,  dry mouth ,  constipation , loss of ...   \n",
       "314216             1  Nausea ,  dry mouth ,  constipation , loss of ...   \n",
       "314223             5  Nausea ,  dry mouth ,  constipation , loss of ...   \n",
       "314235             2  Nausea ,  dry mouth ,  constipation , loss of ...   \n",
       "314246             2  Nausea ,  dry mouth ,  constipation , loss of ...   \n",
       "\n",
       "        UsefulCount  Effectiveness  EaseofUse  \n",
       "314212           12              5          5  \n",
       "314216            0              1          3  \n",
       "314223            0              5          5  \n",
       "314235            0              3          3  \n",
       "314246            1              2          2  "
      ]
     },
     "execution_count": 21,
     "metadata": {},
     "output_type": "execute_result"
    }
   ],
   "source": [
    "df_data.head(5)"
   ]
  },
  {
   "cell_type": "markdown",
   "id": "f5640d02",
   "metadata": {},
   "source": [
    "# Also 'Name', 'Date', 'DrugId' can be dropped as it is irrelevant."
   ]
  },
  {
   "cell_type": "code",
   "execution_count": 22,
   "id": "df491960",
   "metadata": {},
   "outputs": [],
   "source": [
    "df_data=df_data.drop(['Names','Date','DrugId'],axis=1)"
   ]
  },
  {
   "cell_type": "code",
   "execution_count": 23,
   "id": "7832ead4",
   "metadata": {},
   "outputs": [
    {
     "data": {
      "image/png": "[encoded data removed]",
      "text/plain": [
       "<Figure size 640x480 with 1 Axes>"
      ]
     },
     "metadata": {},
     "output_type": "display_data"
    }
   ],
   "source": [
    "#Count plot on Gender\n",
    "sns.countplot(x='Sex',data=df_data,hue='Sex')\n",
    "plt.show()"
   ]
  },
  {
   "cell_type": "code",
   "execution_count": 24,
   "id": "ce2c5b95",
   "metadata": {},
   "outputs": [
    {
     "data": {
      "text/plain": [
       "5    1369\n",
       "4    1102\n",
       "1     953\n",
       "3     810\n",
       "2     414\n",
       "Name: Effectiveness, dtype: int64"
      ]
     },
     "execution_count": 24,
     "metadata": {},
     "output_type": "execute_result"
    }
   ],
   "source": [
    "df_data.Effectiveness.value_counts()"
   ]
  },
  {
   "cell_type": "code",
   "execution_count": 25,
   "id": "4b13fbf4",
   "metadata": {},
   "outputs": [
    {
     "data": {
      "image/png": "[encoded data removed]",
      "text/plain": [
       "<Figure size 640x480 with 1 Axes>"
      ]
     },
     "metadata": {},
     "output_type": "display_data"
    }
   ],
   "source": [
    "sns.countplot(df['Effectiveness'],data=df_data)\n",
    "plt.xticks(rotation=45)\n",
    "plt.show()"
   ]
  },
  {
   "cell_type": "code",
   "execution_count": 26,
   "id": "2bdb5381",
   "metadata": {},
   "outputs": [],
   "source": [
    "#Converting categorical to numerical columns\n",
    "\n",
    "from sklearn.preprocessing import LabelEncoder\n",
    "le = LabelEncoder()"
   ]
  },
  {
   "cell_type": "code",
   "execution_count": 27,
   "id": "98fc88dc",
   "metadata": {},
   "outputs": [],
   "source": [
    "df_data['Sex']= le.fit_transform(df_data['Sex'])\n",
    "df_data['Race']= le.fit_transform(df_data['Race'])\n",
    "df_data['Condition']= le.fit_transform(df_data['Condition'])\n",
    "df_data['Drug']= le.fit_transform(df_data['Drug'])\n",
    "df_data['Sides']= le.fit_transform(df_data['Sides'])\n",
    "df_data['Age']=le.fit_transform(df_data['Age'])"
   ]
  },
  {
   "cell_type": "code",
   "execution_count": 28,
   "id": "5e84a330",
   "metadata": {},
   "outputs": [
    {
     "data": {
      "text/html": [
       "<div>\n",
       "<style scoped>\n",
       "    .dataframe tbody tr th:only-of-type {\n",
       "        vertical-align: middle;\n",
       "    }\n",
       "\n",
       "    .dataframe tbody tr th {\n",
       "        vertical-align: top;\n",
       "    }\n",
       "\n",
       "    .dataframe thead th {\n",
       "        text-align: right;\n",
       "    }\n",
       "</style>\n",
       "<table border=\"1\" class=\"dataframe\">\n",
       "  <thead>\n",
       "    <tr style=\"text-align: right;\">\n",
       "      <th></th>\n",
       "      <th>Age</th>\n",
       "      <th>Sex</th>\n",
       "      <th>Race</th>\n",
       "      <th>Condition</th>\n",
       "      <th>Drug</th>\n",
       "      <th>Satisfaction</th>\n",
       "      <th>Sides</th>\n",
       "      <th>UsefulCount</th>\n",
       "      <th>Effectiveness</th>\n",
       "      <th>EaseofUse</th>\n",
       "    </tr>\n",
       "  </thead>\n",
       "  <tbody>\n",
       "    <tr>\n",
       "      <th>314212</th>\n",
       "      <td>0</td>\n",
       "      <td>0</td>\n",
       "      <td>0</td>\n",
       "      <td>4</td>\n",
       "      <td>0</td>\n",
       "      <td>5</td>\n",
       "      <td>0</td>\n",
       "      <td>12</td>\n",
       "      <td>5</td>\n",
       "      <td>5</td>\n",
       "    </tr>\n",
       "    <tr>\n",
       "      <th>314216</th>\n",
       "      <td>7</td>\n",
       "      <td>1</td>\n",
       "      <td>0</td>\n",
       "      <td>7</td>\n",
       "      <td>0</td>\n",
       "      <td>1</td>\n",
       "      <td>0</td>\n",
       "      <td>0</td>\n",
       "      <td>1</td>\n",
       "      <td>3</td>\n",
       "    </tr>\n",
       "  </tbody>\n",
       "</table>\n",
       "</div>"
      ],
      "text/plain": [
       "        Age  Sex  Race  Condition  Drug  Satisfaction  Sides  UsefulCount  \\\n",
       "314212    0    0     0          4     0             5      0           12   \n",
       "314216    7    1     0          7     0             1      0            0   \n",
       "\n",
       "        Effectiveness  EaseofUse  \n",
       "314212              5          5  \n",
       "314216              1          3  "
      ]
     },
     "execution_count": 28,
     "metadata": {},
     "output_type": "execute_result"
    }
   ],
   "source": [
    "df_data.head(2)"
   ]
  },
  {
   "cell_type": "code",
   "execution_count": 29,
   "id": "8f3547de",
   "metadata": {},
   "outputs": [
    {
     "data": {
      "image/png": "[encoded data removed]",
      "text/plain": [
       "<Figure size 640x480 with 1 Axes>"
      ]
     },
     "metadata": {},
     "output_type": "display_data"
    },
    {
     "data": {
      "image/png": "[encoded data removed]",
      "text/plain": [
       "<Figure size 640x480 with 1 Axes>"
      ]
     },
     "metadata": {},
     "output_type": "display_data"
    },
    {
     "data": {
      "image/png": "[encoded data removed]",
      "text/plain": [
       "<Figure size 640x480 with 1 Axes>"
      ]
     },
     "metadata": {},
     "output_type": "display_data"
    },
    {
     "data": {
      "image/png": "[encoded data removed]",
      "text/plain": [
       "<Figure size 640x480 with 1 Axes>"
      ]
     },
     "metadata": {},
     "output_type": "display_data"
    },
    {
     "data": {
      "image/png": "[encoded data removed]",
      "text/plain": [
       "<Figure size 640x480 with 1 Axes>"
      ]
     },
     "metadata": {},
     "output_type": "display_data"
    },
    {
     "data": {
      "image/png": "[encoded data removed]",
      "text/plain": [
       "<Figure size 640x480 with 1 Axes>"
      ]
     },
     "metadata": {},
     "output_type": "display_data"
    },
    {
     "data": {
      "image/png": "[encoded data removed]",
      "text/plain": [
       "<Figure size 640x480 with 1 Axes>"
      ]
     },
     "metadata": {},
     "output_type": "display_data"
    },
    {
     "data": {
      "image/png": "[encoded data removed]",
      "text/plain": [
       "<Figure size 640x480 with 1 Axes>"
      ]
     },
     "metadata": {},
     "output_type": "display_data"
    },
    {
     "data": {
      "image/png": "[encoded data removed]",
      "text/plain": [
       "<Figure size 640x480 with 1 Axes>"
      ]
     },
     "metadata": {},
     "output_type": "display_data"
    },
    {
     "data": {
      "image/png": "[encoded data removed]",
      "text/plain": [
       "<Figure size 640x480 with 1 Axes>"
      ]
     },
     "metadata": {},
     "output_type": "display_data"
    }
   ],
   "source": [
    "for i in df_data:\n",
    "    sns.boxplot(x=df_data[i])\n",
    "    plt.show()"
   ]
  },
  {
   "cell_type": "code",
   "execution_count": 30,
   "id": "04d5f85d",
   "metadata": {},
   "outputs": [],
   "source": [
    "#Age\n",
    "#Condition\n",
    "#UsefulCount\n",
    "#EaseofUse"
   ]
  },
  {
   "cell_type": "code",
   "execution_count": 31,
   "id": "03670cce",
   "metadata": {},
   "outputs": [
    {
     "data": {
      "text/plain": [
       "2.0"
      ]
     },
     "execution_count": 31,
     "metadata": {},
     "output_type": "execute_result"
    }
   ],
   "source": [
    "from scipy import stats\n",
    "IQR=stats.iqr(df_data.Age,interpolation='midpoint')\n",
    "IQR"
   ]
  },
  {
   "cell_type": "code",
   "execution_count": 32,
   "id": "6c90d9cc",
   "metadata": {},
   "outputs": [
    {
     "name": "stdout",
     "output_type": "stream",
     "text": [
      "6.0 7.0 8.0\n"
     ]
    }
   ],
   "source": [
    "Q1=np.percentile(df_data['Age'],25,interpolation='midpoint')\n",
    "Q2=np.percentile(df_data['Age'],50,interpolation='midpoint')\n",
    "Q3=np.percentile(df_data['Age'],75,interpolation='midpoint')\n",
    "min_limit=Q1-1.5*IQR\n",
    "max_limit=Q3+1.5*IQR\n",
    "min_limit,max_limit\n",
    "print(Q1,Q2,Q3)"
   ]
  },
  {
   "cell_type": "code",
   "execution_count": 33,
   "id": "b3d98087",
   "metadata": {},
   "outputs": [],
   "source": [
    "df_data.loc[df_data['Age']>max_limit,'Age']=np.median(df_data.Age)\n"
   ]
  },
  {
   "cell_type": "code",
   "execution_count": 34,
   "id": "6fff0363",
   "metadata": {},
   "outputs": [],
   "source": [
    "df_data.loc[df_data['Age']<min_limit,'Age']=np.median(df_data.Age)"
   ]
  },
  {
   "cell_type": "code",
   "execution_count": 35,
   "id": "d53d1f94",
   "metadata": {},
   "outputs": [
    {
     "data": {
      "text/plain": [
       "1.0"
      ]
     },
     "execution_count": 35,
     "metadata": {},
     "output_type": "execute_result"
    }
   ],
   "source": [
    "from scipy import stats\n",
    "IQR=stats.iqr(df_data.Condition,interpolation='midpoint')\n",
    "IQR"
   ]
  },
  {
   "cell_type": "code",
   "execution_count": 36,
   "id": "c9fefd89",
   "metadata": {},
   "outputs": [
    {
     "name": "stdout",
     "output_type": "stream",
     "text": [
      "4.0 4.0 5.0\n"
     ]
    }
   ],
   "source": [
    "Q1=np.percentile(df_data['Condition'],25,interpolation='midpoint')\n",
    "Q2=np.percentile(df_data['Condition'],50,interpolation='midpoint')\n",
    "Q3=np.percentile(df_data['Condition'],75,interpolation='midpoint')\n",
    "min_limit=Q1-1.5*IQR\n",
    "max_limit=Q3+1.5*IQR\n",
    "min_limit,max_limit\n",
    "print(Q1,Q2,Q3)"
   ]
  },
  {
   "cell_type": "code",
   "execution_count": 37,
   "id": "0744895c",
   "metadata": {},
   "outputs": [],
   "source": [
    "df_data.loc[df_data['Condition']>max_limit,'Condition']=np.median(df_data.Condition)"
   ]
  },
  {
   "cell_type": "code",
   "execution_count": 38,
   "id": "38a3a5a0",
   "metadata": {},
   "outputs": [],
   "source": [
    "df_data.loc[df_data['Condition']>max_limit,'Condition']=np.median(df_data.Condition)"
   ]
  },
  {
   "cell_type": "code",
   "execution_count": 39,
   "id": "fe44f17b",
   "metadata": {},
   "outputs": [
    {
     "data": {
      "text/plain": [
       "7.0"
      ]
     },
     "execution_count": 39,
     "metadata": {},
     "output_type": "execute_result"
    }
   ],
   "source": [
    "IQR=stats.iqr(df_data.UsefulCount,interpolation='midpoint')\n",
    "IQR"
   ]
  },
  {
   "cell_type": "code",
   "execution_count": 40,
   "id": "be125ef7",
   "metadata": {},
   "outputs": [
    {
     "name": "stdout",
     "output_type": "stream",
     "text": [
      "2.0 5.0 9.0\n"
     ]
    }
   ],
   "source": [
    "Q1=np.percentile(df_data['UsefulCount'],25,interpolation='midpoint')\n",
    "Q2=np.percentile(df_data['UsefulCount'],50,interpolation='midpoint')\n",
    "Q3=np.percentile(df_data['UsefulCount'],75,interpolation='midpoint')\n",
    "min_limit=Q1-1.5*IQR\n",
    "max_limit=Q3+1.5*IQR\n",
    "min_limit,max_limit\n",
    "print(Q1,Q2,Q3)"
   ]
  },
  {
   "cell_type": "code",
   "execution_count": 41,
   "id": "12217c56",
   "metadata": {},
   "outputs": [],
   "source": [
    "df_data.loc[df_data['UsefulCount']>max_limit,'UsefulCount']=np.median(df_data.UsefulCount)"
   ]
  },
  {
   "cell_type": "code",
   "execution_count": 42,
   "id": "3be0d518",
   "metadata": {},
   "outputs": [],
   "source": [
    "df_data.loc[df_data['UsefulCount']>max_limit,'UsefulCount']=np.median(df_data.UsefulCount)"
   ]
  },
  {
   "cell_type": "code",
   "execution_count": 43,
   "id": "07da52a0",
   "metadata": {},
   "outputs": [
    {
     "data": {
      "text/plain": [
       "1.0"
      ]
     },
     "execution_count": 43,
     "metadata": {},
     "output_type": "execute_result"
    }
   ],
   "source": [
    "IQR=stats.iqr(df_data.EaseofUse,interpolation='midpoint')\n",
    "IQR"
   ]
  },
  {
   "cell_type": "code",
   "execution_count": 44,
   "id": "c6672615",
   "metadata": {},
   "outputs": [
    {
     "name": "stdout",
     "output_type": "stream",
     "text": [
      "4.0 5.0 5.0\n"
     ]
    }
   ],
   "source": [
    "Q1=np.percentile(df_data['EaseofUse'],25,interpolation='midpoint')\n",
    "Q2=np.percentile(df_data['EaseofUse'],50,interpolation='midpoint')\n",
    "Q3=np.percentile(df_data['EaseofUse'],75,interpolation='midpoint')\n",
    "min_limit=Q1-1.5*IQR\n",
    "max_limit=Q3+1.5*IQR\n",
    "min_limit,max_limit\n",
    "print(Q1,Q2,Q3)"
   ]
  },
  {
   "cell_type": "code",
   "execution_count": 45,
   "id": "37e49be9",
   "metadata": {},
   "outputs": [],
   "source": [
    "df_data.loc[df_data['EaseofUse']>max_limit,'EaseofUse']=np.median(df_data.EaseofUse)"
   ]
  },
  {
   "cell_type": "code",
   "execution_count": 46,
   "id": "f9a15842",
   "metadata": {},
   "outputs": [],
   "source": [
    "df_data.loc[df_data['EaseofUse']>max_limit,'EaseofUse']=np.median(df_data.EaseofUse)"
   ]
  },
  {
   "cell_type": "code",
   "execution_count": 47,
   "id": "125a479a",
   "metadata": {},
   "outputs": [
    {
     "data": {
      "image/png": "[encoded data removed]",
      "text/plain": [
       "<Figure size 640x480 with 1 Axes>"
      ]
     },
     "metadata": {},
     "output_type": "display_data"
    },
    {
     "data": {
      "image/png": "[encoded data removed]",
      "text/plain": [
       "<Figure size 640x480 with 1 Axes>"
      ]
     },
     "metadata": {},
     "output_type": "display_data"
    },
    {
     "data": {
      "image/png": "[encoded data removed]",
      "text/plain": [
       "<Figure size 640x480 with 1 Axes>"
      ]
     },
     "metadata": {},
     "output_type": "display_data"
    },
    {
     "data": {
      "image/png": "[encoded data removed]",
      "text/plain": [
       "<Figure size 640x480 with 1 Axes>"
      ]
     },
     "metadata": {},
     "output_type": "display_data"
    },
    {
     "data": {
      "image/png": "[encoded data removed]",
      "text/plain": [
       "<Figure size 640x480 with 1 Axes>"
      ]
     },
     "metadata": {},
     "output_type": "display_data"
    },
    {
     "data": {
      "image/png": "[encoded data removed]",
      "text/plain": [
       "<Figure size 640x480 with 1 Axes>"
      ]
     },
     "metadata": {},
     "output_type": "display_data"
    },
    {
     "data": {
      "image/png": "[encoded data removed]",
      "text/plain": [
       "<Figure size 640x480 with 1 Axes>"
      ]
     },
     "metadata": {},
     "output_type": "display_data"
    },
    {
     "data": {
      "image/png": "[encoded data removed]",
      "text/plain": [
       "<Figure size 640x480 with 1 Axes>"
      ]
     },
     "metadata": {},
     "output_type": "display_data"
    },
    {
     "data": {
      "image/png": "[encoded data removed]",
      "text/plain": [
       "<Figure size 640x480 with 1 Axes>"
      ]
     },
     "metadata": {},
     "output_type": "display_data"
    },
    {
     "data": {
      "image/png": "[encoded data removed]",
      "text/plain": [
       "<Figure size 640x480 with 1 Axes>"
      ]
     },
     "metadata": {},
     "output_type": "display_data"
    }
   ],
   "source": [
    "for i in df_data:\n",
    "    sns.boxplot(x=df_data[i])\n",
    "    plt.show()"
   ]
  },
  {
   "cell_type": "code",
   "execution_count": 48,
   "id": "215846a2",
   "metadata": {},
   "outputs": [
    {
     "data": {
      "text/plain": [
       "<AxesSubplot:>"
      ]
     },
     "execution_count": 48,
     "metadata": {},
     "output_type": "execute_result"
    },
    {
     "data": {
      "image/png": "[encoded data removed]",
      "text/plain": [
       "<Figure size 1400x800 with 2 Axes>"
      ]
     },
     "metadata": {},
     "output_type": "display_data"
    }
   ],
   "source": [
    " corrmatrix = df_data.corr()\n",
    "plt.subplots(figsize=(14,8))\n",
    "sns.heatmap(corrmatrix,vmin=-0.4 , vmax=0.9, annot=True, cmap='YlGnBu' , linewidth=0.2)"
   ]
  },
  {
   "cell_type": "markdown",
   "id": "b6deb844",
   "metadata": {},
   "source": [
    "# Replace the values of the column ' Effectiveness ' into categorical values as No side effects,Mild side effects ,Moderate side effects,Severe side effects,Extreme severe side effects."
   ]
  },
  {
   "cell_type": "code",
   "execution_count": 49,
   "id": "4df9bea6",
   "metadata": {},
   "outputs": [],
   "source": [
    "df_data['Effectiveness'].replace(to_replace = [1], value =['extreme severe side effects'], inplace = True)\n",
    "df_data['Effectiveness'].replace(to_replace = [2], value =['severe side effects'], inplace = True)\n",
    "df_data['Effectiveness'].replace(to_replace = [3], value =['moderate side effects'], inplace = True)\n",
    "df_data['Effectiveness'].replace(to_replace = [4], value =['mild side effects'], inplace = True)\n",
    "df_data['Effectiveness'].replace(to_replace = [5], value =['no side effects'], inplace = True)"
   ]
  },
  {
   "cell_type": "code",
   "execution_count": 50,
   "id": "7805a0c1",
   "metadata": {},
   "outputs": [
    {
     "data": {
      "text/html": [
       "<div>\n",
       "<style scoped>\n",
       "    .dataframe tbody tr th:only-of-type {\n",
       "        vertical-align: middle;\n",
       "    }\n",
       "\n",
       "    .dataframe tbody tr th {\n",
       "        vertical-align: top;\n",
       "    }\n",
       "\n",
       "    .dataframe thead th {\n",
       "        text-align: right;\n",
       "    }\n",
       "</style>\n",
       "<table border=\"1\" class=\"dataframe\">\n",
       "  <thead>\n",
       "    <tr style=\"text-align: right;\">\n",
       "      <th></th>\n",
       "      <th>Age</th>\n",
       "      <th>Sex</th>\n",
       "      <th>Race</th>\n",
       "      <th>Condition</th>\n",
       "      <th>Drug</th>\n",
       "      <th>Satisfaction</th>\n",
       "      <th>Sides</th>\n",
       "      <th>UsefulCount</th>\n",
       "      <th>Effectiveness</th>\n",
       "      <th>EaseofUse</th>\n",
       "    </tr>\n",
       "  </thead>\n",
       "  <tbody>\n",
       "    <tr>\n",
       "      <th>314212</th>\n",
       "      <td>7</td>\n",
       "      <td>0</td>\n",
       "      <td>0</td>\n",
       "      <td>4</td>\n",
       "      <td>0</td>\n",
       "      <td>5</td>\n",
       "      <td>0</td>\n",
       "      <td>12</td>\n",
       "      <td>no side effects</td>\n",
       "      <td>5</td>\n",
       "    </tr>\n",
       "    <tr>\n",
       "      <th>314216</th>\n",
       "      <td>7</td>\n",
       "      <td>1</td>\n",
       "      <td>0</td>\n",
       "      <td>4</td>\n",
       "      <td>0</td>\n",
       "      <td>1</td>\n",
       "      <td>0</td>\n",
       "      <td>0</td>\n",
       "      <td>extreme severe side effects</td>\n",
       "      <td>3</td>\n",
       "    </tr>\n",
       "    <tr>\n",
       "      <th>314223</th>\n",
       "      <td>7</td>\n",
       "      <td>0</td>\n",
       "      <td>0</td>\n",
       "      <td>0</td>\n",
       "      <td>0</td>\n",
       "      <td>5</td>\n",
       "      <td>0</td>\n",
       "      <td>0</td>\n",
       "      <td>no side effects</td>\n",
       "      <td>5</td>\n",
       "    </tr>\n",
       "    <tr>\n",
       "      <th>314235</th>\n",
       "      <td>6</td>\n",
       "      <td>0</td>\n",
       "      <td>2</td>\n",
       "      <td>0</td>\n",
       "      <td>0</td>\n",
       "      <td>2</td>\n",
       "      <td>0</td>\n",
       "      <td>0</td>\n",
       "      <td>moderate side effects</td>\n",
       "      <td>3</td>\n",
       "    </tr>\n",
       "    <tr>\n",
       "      <th>314246</th>\n",
       "      <td>8</td>\n",
       "      <td>0</td>\n",
       "      <td>0</td>\n",
       "      <td>1</td>\n",
       "      <td>0</td>\n",
       "      <td>2</td>\n",
       "      <td>0</td>\n",
       "      <td>1</td>\n",
       "      <td>severe side effects</td>\n",
       "      <td>2</td>\n",
       "    </tr>\n",
       "  </tbody>\n",
       "</table>\n",
       "</div>"
      ],
      "text/plain": [
       "        Age  Sex  Race  Condition  Drug  Satisfaction  Sides  UsefulCount  \\\n",
       "314212    7    0     0          4     0             5      0           12   \n",
       "314216    7    1     0          4     0             1      0            0   \n",
       "314223    7    0     0          0     0             5      0            0   \n",
       "314235    6    0     2          0     0             2      0            0   \n",
       "314246    8    0     0          1     0             2      0            1   \n",
       "\n",
       "                      Effectiveness  EaseofUse  \n",
       "314212              no side effects          5  \n",
       "314216  extreme severe side effects          3  \n",
       "314223              no side effects          5  \n",
       "314235        moderate side effects          3  \n",
       "314246          severe side effects          2  "
      ]
     },
     "execution_count": 50,
     "metadata": {},
     "output_type": "execute_result"
    }
   ],
   "source": [
    "df_data.head(5)"
   ]
  },
  {
   "cell_type": "code",
   "execution_count": 51,
   "id": "131fcabd",
   "metadata": {},
   "outputs": [],
   "source": [
    "#removing the column 'Side'\n",
    "\n",
    "df_data=df_data.drop(['Sides'],axis=1)"
   ]
  },
  {
   "cell_type": "code",
   "execution_count": 52,
   "id": "c7837450",
   "metadata": {},
   "outputs": [
    {
     "data": {
      "text/html": [
       "<div>\n",
       "<style scoped>\n",
       "    .dataframe tbody tr th:only-of-type {\n",
       "        vertical-align: middle;\n",
       "    }\n",
       "\n",
       "    .dataframe tbody tr th {\n",
       "        vertical-align: top;\n",
       "    }\n",
       "\n",
       "    .dataframe thead th {\n",
       "        text-align: right;\n",
       "    }\n",
       "</style>\n",
       "<table border=\"1\" class=\"dataframe\">\n",
       "  <thead>\n",
       "    <tr style=\"text-align: right;\">\n",
       "      <th></th>\n",
       "      <th>Age</th>\n",
       "      <th>Sex</th>\n",
       "      <th>Race</th>\n",
       "      <th>Condition</th>\n",
       "      <th>Drug</th>\n",
       "      <th>Satisfaction</th>\n",
       "      <th>UsefulCount</th>\n",
       "      <th>Effectiveness</th>\n",
       "      <th>EaseofUse</th>\n",
       "    </tr>\n",
       "  </thead>\n",
       "  <tbody>\n",
       "    <tr>\n",
       "      <th>314212</th>\n",
       "      <td>7</td>\n",
       "      <td>0</td>\n",
       "      <td>0</td>\n",
       "      <td>4</td>\n",
       "      <td>0</td>\n",
       "      <td>5</td>\n",
       "      <td>12</td>\n",
       "      <td>no side effects</td>\n",
       "      <td>5</td>\n",
       "    </tr>\n",
       "    <tr>\n",
       "      <th>314216</th>\n",
       "      <td>7</td>\n",
       "      <td>1</td>\n",
       "      <td>0</td>\n",
       "      <td>4</td>\n",
       "      <td>0</td>\n",
       "      <td>1</td>\n",
       "      <td>0</td>\n",
       "      <td>extreme severe side effects</td>\n",
       "      <td>3</td>\n",
       "    </tr>\n",
       "    <tr>\n",
       "      <th>314223</th>\n",
       "      <td>7</td>\n",
       "      <td>0</td>\n",
       "      <td>0</td>\n",
       "      <td>0</td>\n",
       "      <td>0</td>\n",
       "      <td>5</td>\n",
       "      <td>0</td>\n",
       "      <td>no side effects</td>\n",
       "      <td>5</td>\n",
       "    </tr>\n",
       "    <tr>\n",
       "      <th>314235</th>\n",
       "      <td>6</td>\n",
       "      <td>0</td>\n",
       "      <td>2</td>\n",
       "      <td>0</td>\n",
       "      <td>0</td>\n",
       "      <td>2</td>\n",
       "      <td>0</td>\n",
       "      <td>moderate side effects</td>\n",
       "      <td>3</td>\n",
       "    </tr>\n",
       "    <tr>\n",
       "      <th>314246</th>\n",
       "      <td>8</td>\n",
       "      <td>0</td>\n",
       "      <td>0</td>\n",
       "      <td>1</td>\n",
       "      <td>0</td>\n",
       "      <td>2</td>\n",
       "      <td>1</td>\n",
       "      <td>severe side effects</td>\n",
       "      <td>2</td>\n",
       "    </tr>\n",
       "  </tbody>\n",
       "</table>\n",
       "</div>"
      ],
      "text/plain": [
       "        Age  Sex  Race  Condition  Drug  Satisfaction  UsefulCount  \\\n",
       "314212    7    0     0          4     0             5           12   \n",
       "314216    7    1     0          4     0             1            0   \n",
       "314223    7    0     0          0     0             5            0   \n",
       "314235    6    0     2          0     0             2            0   \n",
       "314246    8    0     0          1     0             2            1   \n",
       "\n",
       "                      Effectiveness  EaseofUse  \n",
       "314212              no side effects          5  \n",
       "314216  extreme severe side effects          3  \n",
       "314223              no side effects          5  \n",
       "314235        moderate side effects          3  \n",
       "314246          severe side effects          2  "
      ]
     },
     "execution_count": 52,
     "metadata": {},
     "output_type": "execute_result"
    }
   ],
   "source": [
    "df_data.head(5)"
   ]
  },
  {
   "cell_type": "code",
   "execution_count": 53,
   "id": "68327751",
   "metadata": {},
   "outputs": [
    {
     "data": {
      "image/png": "[encoded data removed]",
      "text/plain": [
       "<Figure size 640x480 with 1 Axes>"
      ]
     },
     "metadata": {},
     "output_type": "display_data"
    }
   ],
   "source": [
    "sns.countplot(df_data['Effectiveness'],data=df_data)\n",
    "plt.xticks(rotation=45)\n",
    "plt.show()"
   ]
  },
  {
   "cell_type": "code",
   "execution_count": 54,
   "id": "6838ef97",
   "metadata": {},
   "outputs": [],
   "source": [
    "#spliting\n",
    "y=df_data['Effectiveness']\n",
    "x=df_data.drop(['Effectiveness'],axis=1)"
   ]
  },
  {
   "cell_type": "code",
   "execution_count": 55,
   "id": "108cb353",
   "metadata": {},
   "outputs": [],
   "source": [
    "from sklearn.model_selection import train_test_split\n",
    "x_train,x_test,y_train,y_test=train_test_split(x,y,random_state=42,test_size=0.2)"
   ]
  },
  {
   "cell_type": "code",
   "execution_count": 56,
   "id": "eecb63d6",
   "metadata": {},
   "outputs": [],
   "source": [
    "from sklearn.metrics import accuracy_score"
   ]
  },
  {
   "cell_type": "markdown",
   "id": "b95fa8be",
   "metadata": {},
   "source": [
    "# # Modelling"
   ]
  },
  {
   "cell_type": "markdown",
   "id": "72537238",
   "metadata": {},
   "source": [
    "# Logitic Regression"
   ]
  },
  {
   "cell_type": "code",
   "execution_count": 57,
   "id": "1ef0c5c9",
   "metadata": {},
   "outputs": [],
   "source": [
    "from sklearn.linear_model import LogisticRegression\n",
    "clf=LogisticRegression()\n",
    "model=clf.fit(x_train,y_train)\n",
    "y_pred=model.predict(x_test)"
   ]
  },
  {
   "cell_type": "code",
   "execution_count": 58,
   "id": "d9dbe38b",
   "metadata": {},
   "outputs": [
    {
     "name": "stdout",
     "output_type": "stream",
     "text": [
      "Accuracy = 61.61290322580645\n"
     ]
    }
   ],
   "source": [
    "print('Accuracy =',accuracy_score(y_test,y_pred)*100)"
   ]
  },
  {
   "cell_type": "markdown",
   "id": "ae008614",
   "metadata": {},
   "source": [
    "# KNN"
   ]
  },
  {
   "cell_type": "code",
   "execution_count": 59,
   "id": "214d04d0",
   "metadata": {},
   "outputs": [],
   "source": [
    "from sklearn.neighbors import KNeighborsClassifier\n",
    "metric_k = []\n",
    "neighbors = np.arange(3,15)"
   ]
  },
  {
   "cell_type": "code",
   "execution_count": 60,
   "id": "fb98e4d6",
   "metadata": {},
   "outputs": [],
   "source": [
    "for k in neighbors:\n",
    "    classifier = KNeighborsClassifier(n_neighbors=k,metric='minkowski',p=2)\n",
    "    model = classifier.fit(x_train,y_train)\n",
    "    y_pred = model.predict(x_test)\n",
    "    acc = accuracy_score(y_test,y_pred)\n",
    "    metric_k.append(acc)"
   ]
  },
  {
   "cell_type": "code",
   "execution_count": 61,
   "id": "f35ba552",
   "metadata": {},
   "outputs": [
    {
     "data": {
      "text/plain": [
       "[0.5860215053763441,\n",
       " 0.5806451612903226,\n",
       " 0.5946236559139785,\n",
       " 0.5935483870967742,\n",
       " 0.6010752688172043,\n",
       " 0.6053763440860215,\n",
       " 0.6064516129032258,\n",
       " 0.5935483870967742,\n",
       " 0.603225806451613,\n",
       " 0.6086021505376344,\n",
       " 0.6150537634408603,\n",
       " 0.6096774193548387]"
      ]
     },
     "execution_count": 61,
     "metadata": {},
     "output_type": "execute_result"
    }
   ],
   "source": [
    "metric_k"
   ]
  },
  {
   "cell_type": "code",
   "execution_count": 62,
   "id": "c835954a",
   "metadata": {},
   "outputs": [
    {
     "data": {
      "image/png": "[encoded data removed]",
      "text/plain": [
       "<Figure size 640x480 with 1 Axes>"
      ]
     },
     "metadata": {},
     "output_type": "display_data"
    }
   ],
   "source": [
    "plt.plot(neighbors,metric_k,'o-')\n",
    "plt.xlabel('k value')\n",
    "plt.ylabel('accuracy')\n",
    "plt.grid()"
   ]
  },
  {
   "cell_type": "code",
   "execution_count": 63,
   "id": "6cf04e94",
   "metadata": {},
   "outputs": [],
   "source": [
    "classifier = KNeighborsClassifier(n_neighbors=3,metric='minkowski',p=2)\n",
    "model = classifier.fit(x_train,y_train)\n",
    "y_pred = model.predict(x_test)\n",
    "acc = accuracy_score(y_test,y_pred)\n"
   ]
  },
  {
   "cell_type": "code",
   "execution_count": 64,
   "id": "0c803080",
   "metadata": {},
   "outputs": [
    {
     "name": "stdout",
     "output_type": "stream",
     "text": [
      "58.602150537634415\n"
     ]
    }
   ],
   "source": [
    "print(acc*100)"
   ]
  },
  {
   "cell_type": "markdown",
   "id": "b3436378",
   "metadata": {},
   "source": [
    "# SVM"
   ]
  },
  {
   "cell_type": "code",
   "execution_count": 65,
   "id": "9fd62134",
   "metadata": {},
   "outputs": [
    {
     "data": {
      "text/plain": [
       "SVC()"
      ]
     },
     "execution_count": 65,
     "metadata": {},
     "output_type": "execute_result"
    }
   ],
   "source": [
    "from sklearn.svm import SVC\n",
    "svmclf=SVC(kernel='rbf')\n",
    "svmclf.fit(x_train,y_train)"
   ]
  },
  {
   "cell_type": "code",
   "execution_count": 66,
   "id": "9a5a458d",
   "metadata": {},
   "outputs": [],
   "source": [
    "y_pred_svm=svmclf.predict(x_test)"
   ]
  },
  {
   "cell_type": "code",
   "execution_count": 67,
   "id": "137a24b7",
   "metadata": {},
   "outputs": [
    {
     "name": "stdout",
     "output_type": "stream",
     "text": [
      "Accuracy = 66.88172043010752\n"
     ]
    }
   ],
   "source": [
    "print('Accuracy =',accuracy_score(y_test,y_pred_svm)*100)"
   ]
  },
  {
   "cell_type": "markdown",
   "id": "c560cfef",
   "metadata": {},
   "source": [
    "# DECISION TREE"
   ]
  },
  {
   "cell_type": "code",
   "execution_count": 68,
   "id": "0a52836c",
   "metadata": {},
   "outputs": [
    {
     "data": {
      "text/plain": [
       "DecisionTreeClassifier(random_state=42)"
      ]
     },
     "execution_count": 68,
     "metadata": {},
     "output_type": "execute_result"
    }
   ],
   "source": [
    "from sklearn.tree import DecisionTreeClassifier\n",
    "dt_clf=DecisionTreeClassifier(random_state=42)\n",
    "dt_clf.fit(x_train,y_train)"
   ]
  },
  {
   "cell_type": "code",
   "execution_count": 69,
   "id": "4ddc4a34",
   "metadata": {},
   "outputs": [],
   "source": [
    "y_pred_dt=dt_clf.predict(x_test)"
   ]
  },
  {
   "cell_type": "code",
   "execution_count": 70,
   "id": "3dbb5e15",
   "metadata": {},
   "outputs": [
    {
     "name": "stdout",
     "output_type": "stream",
     "text": [
      "Accuracy = 54.83870967741935\n"
     ]
    }
   ],
   "source": [
    "print('Accuracy =',accuracy_score(y_test,y_pred_dt)*100)"
   ]
  },
  {
   "cell_type": "markdown",
   "id": "dfe4eef7",
   "metadata": {},
   "source": [
    "# RANDOM FOREST"
   ]
  },
  {
   "cell_type": "code",
   "execution_count": 71,
   "id": "caeb80be",
   "metadata": {},
   "outputs": [
    {
     "data": {
      "text/plain": [
       "RandomForestClassifier(n_estimators=50)"
      ]
     },
     "execution_count": 71,
     "metadata": {},
     "output_type": "execute_result"
    }
   ],
   "source": [
    "from sklearn.ensemble import RandomForestClassifier\n",
    "rf_clf=RandomForestClassifier(n_estimators=50)\n",
    "rf_clf.fit(x_train,y_train)"
   ]
  },
  {
   "cell_type": "code",
   "execution_count": 72,
   "id": "067c4187",
   "metadata": {},
   "outputs": [],
   "source": [
    "y_pred_rf=rf_clf.predict(x_test)"
   ]
  },
  {
   "cell_type": "code",
   "execution_count": 73,
   "id": "37330b02",
   "metadata": {},
   "outputs": [
    {
     "name": "stdout",
     "output_type": "stream",
     "text": [
      "Accuracy = 60.967741935483865\n"
     ]
    }
   ],
   "source": [
    "print('Accuracy =',accuracy_score(y_test,y_pred_rf)*100)"
   ]
  },
  {
   "cell_type": "code",
   "execution_count": 74,
   "id": "b097c50b",
   "metadata": {},
   "outputs": [
    {
     "name": "stdout",
     "output_type": "stream",
     "text": [
      "ACCURACY\n",
      "\n",
      "LOGISTIC REGRESSION\t KNN\t\t\t SVM\t\t\t DECISION TREE\t\t RANDOM FOREST\n",
      "\n",
      "58.602150537634415 \t 58.602150537634415 \t 66.88172043010752 \t 54.83870967741935 \t 60.967741935483865 \t\n"
     ]
    }
   ],
   "source": [
    "#comparison of accuracy\n",
    "print('ACCURACY\\n')\n",
    "print('LOGISTIC REGRESSION\\t','KNN\\t\\t\\t','SVM\\t\\t\\t','DECISION TREE\\t\\t','RANDOM FOREST\\n')\n",
    "print(accuracy_score(y_test,y_pred)*100,'\\t',accuracy_score(y_test,y_pred)*100,'\\t',accuracy_score(y_test,y_pred_svm)*100,'\\t',accuracy_score(y_test,y_pred_dt)*100,'\\t',accuracy_score(y_test,y_pred_rf)*100,'\\t')"
   ]
  },
  {
   "cell_type": "markdown",
   "id": "039aca3f",
   "metadata": {},
   "source": [
    "# STANDARDISATION"
   ]
  },
  {
   "cell_type": "code",
   "execution_count": 75,
   "id": "100118f1",
   "metadata": {},
   "outputs": [],
   "source": [
    "from sklearn.preprocessing import StandardScaler\n",
    "stand=StandardScaler()\n",
    "x=stand.fit_transform(x)"
   ]
  },
  {
   "cell_type": "code",
   "execution_count": 76,
   "id": "9619b5b3",
   "metadata": {},
   "outputs": [],
   "source": [
    "x_train,x_test,y_train,y_test=train_test_split(x,y,test_size=0.1,random_state=42)"
   ]
  },
  {
   "cell_type": "markdown",
   "id": "39f8e4cb",
   "metadata": {},
   "source": [
    "# Logistic Regression"
   ]
  },
  {
   "cell_type": "code",
   "execution_count": 77,
   "id": "03a1f004",
   "metadata": {},
   "outputs": [],
   "source": [
    "clf1=LogisticRegression()\n",
    "clf1.fit(x_train,y_train)\n",
    "y_pred1=clf1.predict(x_test)\n"
   ]
  },
  {
   "cell_type": "code",
   "execution_count": 78,
   "id": "3a6a3fae",
   "metadata": {},
   "outputs": [
    {
     "name": "stdout",
     "output_type": "stream",
     "text": [
      "Accuracy is:  64.51612903225806\n"
     ]
    }
   ],
   "source": [
    "print(\"Accuracy is: \",accuracy_score(y_test,y_pred1)*100)"
   ]
  },
  {
   "cell_type": "markdown",
   "id": "10f0a8db",
   "metadata": {},
   "source": [
    "# KNN "
   ]
  },
  {
   "cell_type": "code",
   "execution_count": 79,
   "id": "76df73ca",
   "metadata": {},
   "outputs": [
    {
     "name": "stdout",
     "output_type": "stream",
     "text": [
      "Accuracy is:  53.76344086021505\n"
     ]
    }
   ],
   "source": [
    "classifier1=KNeighborsClassifier(n_neighbors=3, metric='minkowski',p=2)\n",
    "model1=classifier1.fit(x_train,y_train)\n",
    "y_pred1=model1.predict(x_test)\n",
    "acc=accuracy_score(y_test,y_pred1)\n",
    "print(\"Accuracy is: \",acc*100)"
   ]
  },
  {
   "cell_type": "markdown",
   "id": "50596ee5",
   "metadata": {},
   "source": [
    "# SVM"
   ]
  },
  {
   "cell_type": "code",
   "execution_count": 80,
   "id": "b1ed7591",
   "metadata": {},
   "outputs": [
    {
     "name": "stdout",
     "output_type": "stream",
     "text": [
      "Accuracy = 69.03225806451613\n"
     ]
    }
   ],
   "source": [
    "svmclf1=SVC(kernel='rbf')\n",
    "svmclf1.fit(x_train,y_train)\n",
    "y_pred_svm1=svmclf1.predict(x_test)\n",
    "print('Accuracy =',accuracy_score(y_test,y_pred_svm1)*100)"
   ]
  },
  {
   "cell_type": "markdown",
   "id": "7f934ceb",
   "metadata": {},
   "source": [
    "# DECISION TREE"
   ]
  },
  {
   "cell_type": "code",
   "execution_count": 81,
   "id": "6d05cdd9",
   "metadata": {},
   "outputs": [
    {
     "name": "stdout",
     "output_type": "stream",
     "text": [
      "Accuracy = 55.6989247311828\n"
     ]
    }
   ],
   "source": [
    "dt_clf1=DecisionTreeClassifier(random_state=42)\n",
    "dt_clf1.fit(x_train,y_train)\n",
    "y_pred_dt1=dt_clf1.predict(x_test)\n",
    "print('Accuracy =',accuracy_score(y_test,y_pred_dt1)*100)"
   ]
  },
  {
   "cell_type": "markdown",
   "id": "7bee018a",
   "metadata": {},
   "source": [
    "# RANDOM FOREST"
   ]
  },
  {
   "cell_type": "code",
   "execution_count": 82,
   "id": "1af92f0d",
   "metadata": {},
   "outputs": [
    {
     "name": "stdout",
     "output_type": "stream",
     "text": [
      "Accuracy = 61.72043010752688\n"
     ]
    }
   ],
   "source": [
    "rf_clf1=RandomForestClassifier(n_estimators=50)\n",
    "rf_clf1.fit(x_train,y_train)\n",
    "y_pred_rf1=rf_clf1.predict(x_test)\n",
    "print('Accuracy =',accuracy_score(y_test,y_pred_rf1)*100)"
   ]
  },
  {
   "cell_type": "markdown",
   "id": "4dc09a1d",
   "metadata": {},
   "source": [
    "# EVALUATING MODEL"
   ]
  },
  {
   "cell_type": "code",
   "execution_count": 83,
   "id": "080a0b31",
   "metadata": {},
   "outputs": [
    {
     "data": {
      "text/plain": [
       "no side effects                142\n",
       "extreme severe side effects    104\n",
       "mild side effects              101\n",
       "moderate side effects           79\n",
       "severe side effects             39\n",
       "Name: Effectiveness, dtype: int64"
      ]
     },
     "execution_count": 83,
     "metadata": {},
     "output_type": "execute_result"
    }
   ],
   "source": [
    "y_test.value_counts()"
   ]
  },
  {
   "cell_type": "code",
   "execution_count": 84,
   "id": "dc2f7624",
   "metadata": {},
   "outputs": [],
   "source": [
    "#The main objective of the project is to build a classification model that classifies the side effects of a particular drug.\n",
    "\n",
    "#After the implementation of the Logistic Regression, K-Nearest Neighbour (KNN),Support Vector Machine, Random Forest and Decision Tree Algorithm the SVM classifier came out with the best accuracy of prediction ( Accuracy is 69.032).\n"
   ]
  },
  {
   "cell_type": "code",
   "execution_count": null,
   "id": "a73434a2",
   "metadata": {},
   "outputs": [],
   "source": []
  },
  {
   "cell_type": "code",
   "execution_count": null,
   "id": "2ca3742e",
   "metadata": {},
   "outputs": [],
   "source": []
  }
 ],
 "metadata": {
  "kernelspec": {
   "display_name": "Python 3 (ipykernel)",
   "language": "python",
   "name": "python3"
  },
  "language_info": {
   "codemirror_mode": {
    "name": "ipython",
    "version": 3
   },
   "file_extension": ".py",
   "mimetype": "text/x-python",
   "name": "python",
   "nbconvert_exporter": "python",
   "pygments_lexer": "ipython3",
   "version": "3.9.13"
  }
 },
 "nbformat": 4,
 "nbformat_minor": 5
}
